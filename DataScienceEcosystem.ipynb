{
 "cells": [
  {
   "cell_type": "markdown",
   "id": "30f3f6db-129a-4169-94ee-12d22d6b03de",
   "metadata": {
    "tags": []
   },
   "source": [
    "# Data Science Tools and Ecosystem"
   ]
  },
  {
   "cell_type": "markdown",
   "id": "3bc52e9a-8f54-414d-85b9-94e56e66d6ae",
   "metadata": {},
   "source": [
    "In this notebook, Data Science Tools and Ecosystem are summarized."
   ]
  },
  {
   "cell_type": "markdown",
   "id": "6f1dcff5-2f11-4247-8cd4-12299ef935d0",
   "metadata": {},
   "source": [
    "Some of the popular languages that Data Scientists use are:\n",
    "1. Python\n",
    "2. R\n",
    "3. Scala\n",
    "4. Julia\n",
    "5. SQL\n",
    "6. Java"
   ]
  },
  {
   "cell_type": "markdown",
   "id": "023b8d8b-a5ac-478a-9733-fc887c54bd53",
   "metadata": {
    "tags": []
   },
   "source": [
    "Some of the commonly used libraries used by Data Scientists include:\n",
    "1. Pandas\n",
    "2. Numpy\n",
    "3. Tensorflow\n",
    "4. SciKit-Learn\n",
    "5. Matplotlib\n",
    "6. PyTorch"
   ]
  },
  {
   "cell_type": "markdown",
   "id": "c36bb3a7-5e1d-452f-810c-348a56de437f",
   "metadata": {},
   "source": [
    "| Data Science Tools |\n",
    "| ------ |\n",
    "| Python |\n",
    "| Apache Hadoop |\n",
    "| Apache Spark |"
   ]
  },
  {
   "cell_type": "markdown",
   "id": "ee7ce674-433e-495f-9204-b843b26a825d",
   "metadata": {},
   "source": [
    "### Below are a few examples of evaluating arithmetic expressions in Python"
   ]
  },
  {
   "cell_type": "code",
   "execution_count": 2,
   "id": "7fc960c1-4ec3-4a21-9565-5eda48ab3e89",
   "metadata": {
    "tags": []
   },
   "outputs": [
    {
     "data": {
      "text/plain": [
       "17"
      ]
     },
     "execution_count": 2,
     "metadata": {},
     "output_type": "execute_result"
    }
   ],
   "source": [
    "# This a simple arithmetic expression to mutiply then add integers\n",
    "(3*4)+5"
   ]
  },
  {
   "cell_type": "code",
   "execution_count": 22,
   "id": "17e1e463-3efd-47b7-8394-6ad3f94c7ed8",
   "metadata": {
    "tags": []
   },
   "outputs": [
    {
     "name": "stdout",
     "output_type": "stream",
     "text": [
      "3.3333333333333335 Hours\n"
     ]
    }
   ],
   "source": [
    "# This will convert 200 minutes to hours by diving by 60\n",
    "m = 200\n",
    "h = m/60\n",
    "print (h,\"Hours\")"
   ]
  },
  {
   "cell_type": "markdown",
   "id": "24083e43-3dcd-4724-a26f-fb0885d17369",
   "metadata": {},
   "source": [
    "**Objectives:**\n",
    "* Jupyter Notebooks\n",
    "* Jupyter Lab\n",
    "* GitHub"
   ]
  },
  {
   "cell_type": "markdown",
   "id": "a3f7aa57-6394-4378-8e39-70731b2f9628",
   "metadata": {},
   "source": [
    "## Author\n",
    "Mohammad Nouman"
   ]
  },
  {
   "cell_type": "code",
   "execution_count": null,
   "id": "4b8639db-0a43-4eb2-b5f5-17da79244095",
   "metadata": {},
   "outputs": [],
   "source": []
  }
 ],
 "metadata": {
  "kernelspec": {
   "display_name": "Python",
   "language": "python",
   "name": "conda-env-python-py"
  },
  "language_info": {
   "codemirror_mode": {
    "name": "ipython",
    "version": 3
   },
   "file_extension": ".py",
   "mimetype": "text/x-python",
   "name": "python",
   "nbconvert_exporter": "python",
   "pygments_lexer": "ipython3",
   "version": "3.7.12"
  }
 },
 "nbformat": 4,
 "nbformat_minor": 5
}
